{
 "cells": [
  {
   "cell_type": "markdown",
   "metadata": {},
   "source": [
    "# Zakat Calulation\n",
    "\n",
    "The purpose of this notebook is to calculate the amount of zakat that is due for each individual year. The price calculation is done in PKR.\n"
   ]
  },
  {
   "cell_type": "code",
   "execution_count": 183,
   "metadata": {},
   "outputs": [],
   "source": [
    "import pandas as pd\n",
    "import numpy as np\n",
    "import matplotlib.pyplot as plt"
   ]
  },
  {
   "cell_type": "code",
   "execution_count": 216,
   "metadata": {},
   "outputs": [],
   "source": [
    "TOTAL_TOLA = 16\n",
    "TOLA = 12 # 1 Tola = 12 grams\n",
    "ZAKAT = 0.025 # 2.5% of total gold"
   ]
  },
  {
   "cell_type": "code",
   "execution_count": 185,
   "metadata": {},
   "outputs": [],
   "source": [
    "# data path\n",
    "raw_data_file = 'data/raw.csv'"
   ]
  },
  {
   "cell_type": "code",
   "execution_count": 186,
   "metadata": {},
   "outputs": [
    {
     "data": {
      "text/html": [
       "<div>\n",
       "<style scoped>\n",
       "    .dataframe tbody tr th:only-of-type {\n",
       "        vertical-align: middle;\n",
       "    }\n",
       "\n",
       "    .dataframe tbody tr th {\n",
       "        vertical-align: top;\n",
       "    }\n",
       "\n",
       "    .dataframe thead th {\n",
       "        text-align: right;\n",
       "    }\n",
       "</style>\n",
       "<table border=\"1\" class=\"dataframe\">\n",
       "  <thead>\n",
       "    <tr style=\"text-align: right;\">\n",
       "      <th></th>\n",
       "      <th>Date</th>\n",
       "      <th>10 gram price</th>\n",
       "      <th>Tola</th>\n",
       "    </tr>\n",
       "  </thead>\n",
       "  <tbody>\n",
       "    <tr>\n",
       "      <th>0</th>\n",
       "      <td>5-Feb-13</td>\n",
       "      <td>53700</td>\n",
       "      <td>NaN</td>\n",
       "    </tr>\n",
       "    <tr>\n",
       "      <th>1</th>\n",
       "      <td>17-April-13</td>\n",
       "      <td>46200</td>\n",
       "      <td>NaN</td>\n",
       "    </tr>\n",
       "    <tr>\n",
       "      <th>2</th>\n",
       "      <td>08-Jun-13</td>\n",
       "      <td>46457</td>\n",
       "      <td>NaN</td>\n",
       "    </tr>\n",
       "    <tr>\n",
       "      <th>3</th>\n",
       "      <td>20-Sep-13</td>\n",
       "      <td>46971</td>\n",
       "      <td>NaN</td>\n",
       "    </tr>\n",
       "    <tr>\n",
       "      <th>4</th>\n",
       "      <td>24-Sep-13</td>\n",
       "      <td>45600</td>\n",
       "      <td>NaN</td>\n",
       "    </tr>\n",
       "  </tbody>\n",
       "</table>\n",
       "</div>"
      ],
      "text/plain": [
       "          Date 10 gram price  Tola\n",
       "0     5-Feb-13         53700   NaN\n",
       "1  17-April-13         46200   NaN\n",
       "2    08-Jun-13         46457   NaN\n",
       "3    20-Sep-13         46971   NaN\n",
       "4    24-Sep-13         45600   NaN"
      ]
     },
     "execution_count": 186,
     "metadata": {},
     "output_type": "execute_result"
    }
   ],
   "source": [
    "# load data\n",
    "df = pd.read_csv(raw_data_file)\n",
    "\n",
    "# show data\n",
    "df.head()"
   ]
  },
  {
   "cell_type": "code",
   "execution_count": 187,
   "metadata": {},
   "outputs": [
    {
     "data": {
      "text/html": [
       "<div>\n",
       "<style scoped>\n",
       "    .dataframe tbody tr th:only-of-type {\n",
       "        vertical-align: middle;\n",
       "    }\n",
       "\n",
       "    .dataframe tbody tr th {\n",
       "        vertical-align: top;\n",
       "    }\n",
       "\n",
       "    .dataframe thead th {\n",
       "        text-align: right;\n",
       "    }\n",
       "</style>\n",
       "<table border=\"1\" class=\"dataframe\">\n",
       "  <thead>\n",
       "    <tr style=\"text-align: right;\">\n",
       "      <th></th>\n",
       "      <th>Date</th>\n",
       "      <th>10 gram price</th>\n",
       "    </tr>\n",
       "  </thead>\n",
       "  <tbody>\n",
       "    <tr>\n",
       "      <th>0</th>\n",
       "      <td>5-Feb-13</td>\n",
       "      <td>53700</td>\n",
       "    </tr>\n",
       "    <tr>\n",
       "      <th>1</th>\n",
       "      <td>17-April-13</td>\n",
       "      <td>46200</td>\n",
       "    </tr>\n",
       "    <tr>\n",
       "      <th>2</th>\n",
       "      <td>08-Jun-13</td>\n",
       "      <td>46457</td>\n",
       "    </tr>\n",
       "    <tr>\n",
       "      <th>3</th>\n",
       "      <td>20-Sep-13</td>\n",
       "      <td>46971</td>\n",
       "    </tr>\n",
       "    <tr>\n",
       "      <th>4</th>\n",
       "      <td>24-Sep-13</td>\n",
       "      <td>45600</td>\n",
       "    </tr>\n",
       "  </tbody>\n",
       "</table>\n",
       "</div>"
      ],
      "text/plain": [
       "          Date 10 gram price\n",
       "0     5-Feb-13         53700\n",
       "1  17-April-13         46200\n",
       "2    08-Jun-13         46457\n",
       "3    20-Sep-13         46971\n",
       "4    24-Sep-13         45600"
      ]
     },
     "execution_count": 187,
     "metadata": {},
     "output_type": "execute_result"
    }
   ],
   "source": [
    "# drop Tola column as it will be calculated\n",
    "df.drop('Tola', axis=1, inplace=True)\n",
    "\n",
    "# show data\n",
    "df.head()"
   ]
  },
  {
   "cell_type": "code",
   "execution_count": 188,
   "metadata": {},
   "outputs": [
    {
     "data": {
      "text/plain": [
       "Date             object\n",
       "10 gram price    object\n",
       "dtype: object"
      ]
     },
     "execution_count": 188,
     "metadata": {},
     "output_type": "execute_result"
    }
   ],
   "source": [
    "# check data type\n",
    "df.dtypes"
   ]
  },
  {
   "cell_type": "code",
   "execution_count": 189,
   "metadata": {},
   "outputs": [
    {
     "data": {
      "text/plain": [
       "Date             datetime64[ns]\n",
       "10 gram price           float64\n",
       "dtype: object"
      ]
     },
     "execution_count": 189,
     "metadata": {},
     "output_type": "execute_result"
    }
   ],
   "source": [
    "# convert 10 gram price data type to float\n",
    "df['10 gram price'] = df['10 gram price'].str.replace(',', '').astype(float)\n",
    "\n",
    "# convert date data type to date format without time\n",
    "df['Date'] = pd.to_datetime(df['Date'], format='mixed')\n",
    "\n",
    "# check data type\n",
    "df.dtypes"
   ]
  },
  {
   "cell_type": "code",
   "execution_count": 190,
   "metadata": {},
   "outputs": [
    {
     "data": {
      "text/html": [
       "<div>\n",
       "<style scoped>\n",
       "    .dataframe tbody tr th:only-of-type {\n",
       "        vertical-align: middle;\n",
       "    }\n",
       "\n",
       "    .dataframe tbody tr th {\n",
       "        vertical-align: top;\n",
       "    }\n",
       "\n",
       "    .dataframe thead th {\n",
       "        text-align: right;\n",
       "    }\n",
       "</style>\n",
       "<table border=\"1\" class=\"dataframe\">\n",
       "  <thead>\n",
       "    <tr style=\"text-align: right;\">\n",
       "      <th></th>\n",
       "      <th>Date</th>\n",
       "      <th>10 gram price</th>\n",
       "    </tr>\n",
       "  </thead>\n",
       "  <tbody>\n",
       "    <tr>\n",
       "      <th>0</th>\n",
       "      <td>2013-02-05</td>\n",
       "      <td>53700.0</td>\n",
       "    </tr>\n",
       "    <tr>\n",
       "      <th>1</th>\n",
       "      <td>2013-04-17</td>\n",
       "      <td>46200.0</td>\n",
       "    </tr>\n",
       "    <tr>\n",
       "      <th>2</th>\n",
       "      <td>2013-06-08</td>\n",
       "      <td>46457.0</td>\n",
       "    </tr>\n",
       "    <tr>\n",
       "      <th>3</th>\n",
       "      <td>2013-09-20</td>\n",
       "      <td>46971.0</td>\n",
       "    </tr>\n",
       "    <tr>\n",
       "      <th>4</th>\n",
       "      <td>2013-09-24</td>\n",
       "      <td>45600.0</td>\n",
       "    </tr>\n",
       "  </tbody>\n",
       "</table>\n",
       "</div>"
      ],
      "text/plain": [
       "        Date  10 gram price\n",
       "0 2013-02-05        53700.0\n",
       "1 2013-04-17        46200.0\n",
       "2 2013-06-08        46457.0\n",
       "3 2013-09-20        46971.0\n",
       "4 2013-09-24        45600.0"
      ]
     },
     "execution_count": 190,
     "metadata": {},
     "output_type": "execute_result"
    }
   ],
   "source": [
    "# show data\n",
    "df.head()"
   ]
  },
  {
   "cell_type": "code",
   "execution_count": 191,
   "metadata": {},
   "outputs": [
    {
     "data": {
      "text/html": [
       "<div>\n",
       "<style scoped>\n",
       "    .dataframe tbody tr th:only-of-type {\n",
       "        vertical-align: middle;\n",
       "    }\n",
       "\n",
       "    .dataframe tbody tr th {\n",
       "        vertical-align: top;\n",
       "    }\n",
       "\n",
       "    .dataframe thead th {\n",
       "        text-align: right;\n",
       "    }\n",
       "</style>\n",
       "<table border=\"1\" class=\"dataframe\">\n",
       "  <thead>\n",
       "    <tr style=\"text-align: right;\">\n",
       "      <th></th>\n",
       "      <th>Date</th>\n",
       "      <th>10 gram price</th>\n",
       "    </tr>\n",
       "  </thead>\n",
       "  <tbody>\n",
       "    <tr>\n",
       "      <th>count</th>\n",
       "      <td>160</td>\n",
       "      <td>1.600000e+02</td>\n",
       "    </tr>\n",
       "    <tr>\n",
       "      <th>mean</th>\n",
       "      <td>2019-11-18 20:15:00</td>\n",
       "      <td>5.991456e+08</td>\n",
       "    </tr>\n",
       "    <tr>\n",
       "      <th>min</th>\n",
       "      <td>2013-02-05 00:00:00</td>\n",
       "      <td>1.604930e+02</td>\n",
       "    </tr>\n",
       "    <tr>\n",
       "      <th>25%</th>\n",
       "      <td>2019-05-15 12:00:00</td>\n",
       "      <td>6.048500e+04</td>\n",
       "    </tr>\n",
       "    <tr>\n",
       "      <th>50%</th>\n",
       "      <td>2019-09-12 00:00:00</td>\n",
       "      <td>7.533500e+04</td>\n",
       "    </tr>\n",
       "    <tr>\n",
       "      <th>75%</th>\n",
       "      <td>2021-04-05 00:00:00</td>\n",
       "      <td>9.775825e+04</td>\n",
       "    </tr>\n",
       "    <tr>\n",
       "      <th>max</th>\n",
       "      <td>2023-08-05 00:00:00</td>\n",
       "      <td>9.585011e+10</td>\n",
       "    </tr>\n",
       "    <tr>\n",
       "      <th>std</th>\n",
       "      <td>NaN</td>\n",
       "      <td>7.577610e+09</td>\n",
       "    </tr>\n",
       "  </tbody>\n",
       "</table>\n",
       "</div>"
      ],
      "text/plain": [
       "                      Date  10 gram price\n",
       "count                  160   1.600000e+02\n",
       "mean   2019-11-18 20:15:00   5.991456e+08\n",
       "min    2013-02-05 00:00:00   1.604930e+02\n",
       "25%    2019-05-15 12:00:00   6.048500e+04\n",
       "50%    2019-09-12 00:00:00   7.533500e+04\n",
       "75%    2021-04-05 00:00:00   9.775825e+04\n",
       "max    2023-08-05 00:00:00   9.585011e+10\n",
       "std                    NaN   7.577610e+09"
      ]
     },
     "execution_count": 191,
     "metadata": {},
     "output_type": "execute_result"
    }
   ],
   "source": [
    "# describe data\n",
    "df.describe()"
   ]
  },
  {
   "cell_type": "code",
   "execution_count": 192,
   "metadata": {},
   "outputs": [
    {
     "data": {
      "text/plain": [
       "<matplotlib.collections.PathCollection at 0x7f1690bd07c0>"
      ]
     },
     "execution_count": 192,
     "metadata": {},
     "output_type": "execute_result"
    },
    {
     "data": {
      "image/png": "[encoded data removed]",
      "text/plain": [
       "<Figure size 640x480 with 1 Axes>"
      ]
     },
     "metadata": {},
     "output_type": "display_data"
    }
   ],
   "source": [
    "# scatter plot of 10 gram price\n",
    "plt.scatter(df['Date'], df['10 gram price'])"
   ]
  },
  {
   "cell_type": "code",
   "execution_count": 193,
   "metadata": {},
   "outputs": [
    {
     "data": {
      "text/plain": [
       "<matplotlib.collections.PathCollection at 0x7f1690b07280>"
      ]
     },
     "execution_count": 193,
     "metadata": {},
     "output_type": "execute_result"
    },
    {
     "data": {
      "image/png": "[encoded data removed]",
      "text/plain": [
       "<Figure size 640x480 with 1 Axes>"
      ]
     },
     "metadata": {},
     "output_type": "display_data"
    }
   ],
   "source": [
    "# remove the max value\n",
    "df = df[df['10 gram price'] != df['10 gram price'].max()]\n",
    "\n",
    "# remove the min value\n",
    "df = df[df['10 gram price'] != df['10 gram price'].min()]\n",
    "\n",
    "# scatter plot of 10 gram price\n",
    "plt.scatter(df['Date'], df['10 gram price'])"
   ]
  },
  {
   "cell_type": "code",
   "execution_count": 194,
   "metadata": {},
   "outputs": [
    {
     "data": {
      "text/plain": [
       "<Axes: ylabel='Frequency'>"
      ]
     },
     "execution_count": 194,
     "metadata": {},
     "output_type": "execute_result"
    },
    {
     "data": {
      "image/png": "[encoded data removed]",
      "text/plain": [
       "<Figure size 640x480 with 1 Axes>"
      ]
     },
     "metadata": {},
     "output_type": "display_data"
    }
   ],
   "source": [
    "# plot and verify the distribution\n",
    "df['10 gram price'].plot(kind='hist', bins=20)\n",
    "\n"
   ]
  },
  {
   "cell_type": "code",
   "execution_count": 195,
   "metadata": {},
   "outputs": [
    {
     "data": {
      "text/html": [
       "<div>\n",
       "<style scoped>\n",
       "    .dataframe tbody tr th:only-of-type {\n",
       "        vertical-align: middle;\n",
       "    }\n",
       "\n",
       "    .dataframe tbody tr th {\n",
       "        vertical-align: top;\n",
       "    }\n",
       "\n",
       "    .dataframe thead th {\n",
       "        text-align: right;\n",
       "    }\n",
       "</style>\n",
       "<table border=\"1\" class=\"dataframe\">\n",
       "  <thead>\n",
       "    <tr style=\"text-align: right;\">\n",
       "      <th></th>\n",
       "      <th>Date</th>\n",
       "      <th>10 gram price</th>\n",
       "      <th>1 gram price</th>\n",
       "      <th>1 tola price</th>\n",
       "    </tr>\n",
       "  </thead>\n",
       "  <tbody>\n",
       "    <tr>\n",
       "      <th>0</th>\n",
       "      <td>2013-02-05</td>\n",
       "      <td>53700.0</td>\n",
       "      <td>5370.0</td>\n",
       "      <td>64440.0</td>\n",
       "    </tr>\n",
       "    <tr>\n",
       "      <th>1</th>\n",
       "      <td>2013-04-17</td>\n",
       "      <td>46200.0</td>\n",
       "      <td>4620.0</td>\n",
       "      <td>55440.0</td>\n",
       "    </tr>\n",
       "    <tr>\n",
       "      <th>2</th>\n",
       "      <td>2013-06-08</td>\n",
       "      <td>46457.0</td>\n",
       "      <td>4645.7</td>\n",
       "      <td>55748.4</td>\n",
       "    </tr>\n",
       "    <tr>\n",
       "      <th>3</th>\n",
       "      <td>2013-09-20</td>\n",
       "      <td>46971.0</td>\n",
       "      <td>4697.1</td>\n",
       "      <td>56365.2</td>\n",
       "    </tr>\n",
       "    <tr>\n",
       "      <th>4</th>\n",
       "      <td>2013-09-24</td>\n",
       "      <td>45600.0</td>\n",
       "      <td>4560.0</td>\n",
       "      <td>54720.0</td>\n",
       "    </tr>\n",
       "  </tbody>\n",
       "</table>\n",
       "</div>"
      ],
      "text/plain": [
       "        Date  10 gram price  1 gram price  1 tola price\n",
       "0 2013-02-05        53700.0        5370.0       64440.0\n",
       "1 2013-04-17        46200.0        4620.0       55440.0\n",
       "2 2013-06-08        46457.0        4645.7       55748.4\n",
       "3 2013-09-20        46971.0        4697.1       56365.2\n",
       "4 2013-09-24        45600.0        4560.0       54720.0"
      ]
     },
     "execution_count": 195,
     "metadata": {},
     "output_type": "execute_result"
    }
   ],
   "source": [
    "# add 1 gram price column\n",
    "df['1 gram price'] = df['10 gram price'] / 10\n",
    "\n",
    "# add 1 tola price column\n",
    "df['1 tola price'] = df['1 gram price'] * TOLA\n",
    "\n",
    "# show data\n",
    "df.head()"
   ]
  },
  {
   "cell_type": "code",
   "execution_count": 196,
   "metadata": {},
   "outputs": [
    {
     "data": {
      "text/plain": [
       "array([[<Axes: ylabel='Frequency'>, <Axes: ylabel='Frequency'>],\n",
       "       [<Axes: ylabel='Frequency'>, <Axes: ylabel='Frequency'>]],\n",
       "      dtype=object)"
      ]
     },
     "execution_count": 196,
     "metadata": {},
     "output_type": "execute_result"
    },
    {
     "data": {
      "image/png": "[encoded data removed]",
      "text/plain": [
       "<Figure size 1000x1000 with 4 Axes>"
      ]
     },
     "metadata": {},
     "output_type": "display_data"
    }
   ],
   "source": [
    "# plot distribution of each column\n",
    "df.plot(kind='hist', subplots=True, layout=(2, 2), figsize=(10, 10))"
   ]
  },
  {
   "cell_type": "code",
   "execution_count": 197,
   "metadata": {},
   "outputs": [
    {
     "data": {
      "text/html": [
       "<div>\n",
       "<style scoped>\n",
       "    .dataframe tbody tr th:only-of-type {\n",
       "        vertical-align: middle;\n",
       "    }\n",
       "\n",
       "    .dataframe tbody tr th {\n",
       "        vertical-align: top;\n",
       "    }\n",
       "\n",
       "    .dataframe thead th {\n",
       "        text-align: right;\n",
       "    }\n",
       "</style>\n",
       "<table border=\"1\" class=\"dataframe\">\n",
       "  <thead>\n",
       "    <tr style=\"text-align: right;\">\n",
       "      <th></th>\n",
       "      <th>Date</th>\n",
       "      <th>10 gram price</th>\n",
       "      <th>1 gram price</th>\n",
       "      <th>1 tola price</th>\n",
       "    </tr>\n",
       "  </thead>\n",
       "  <tbody>\n",
       "    <tr>\n",
       "      <th>count</th>\n",
       "      <td>158</td>\n",
       "      <td>158.000000</td>\n",
       "      <td>158.000000</td>\n",
       "      <td>158.000000</td>\n",
       "    </tr>\n",
       "    <tr>\n",
       "      <th>mean</th>\n",
       "      <td>2019-11-08 02:34:56.202531584</td>\n",
       "      <td>83479.335443</td>\n",
       "      <td>8347.933544</td>\n",
       "      <td>100175.202532</td>\n",
       "    </tr>\n",
       "    <tr>\n",
       "      <th>min</th>\n",
       "      <td>2013-02-05 00:00:00</td>\n",
       "      <td>40380.000000</td>\n",
       "      <td>4038.000000</td>\n",
       "      <td>48456.000000</td>\n",
       "    </tr>\n",
       "    <tr>\n",
       "      <th>25%</th>\n",
       "      <td>2019-05-14 12:00:00</td>\n",
       "      <td>60517.250000</td>\n",
       "      <td>6051.725000</td>\n",
       "      <td>72620.700000</td>\n",
       "    </tr>\n",
       "    <tr>\n",
       "      <th>50%</th>\n",
       "      <td>2019-09-03 00:00:00</td>\n",
       "      <td>75335.000000</td>\n",
       "      <td>7533.500000</td>\n",
       "      <td>90402.000000</td>\n",
       "    </tr>\n",
       "    <tr>\n",
       "      <th>75%</th>\n",
       "      <td>2021-02-24 06:00:00</td>\n",
       "      <td>97680.250000</td>\n",
       "      <td>9768.025000</td>\n",
       "      <td>117216.300000</td>\n",
       "    </tr>\n",
       "    <tr>\n",
       "      <th>max</th>\n",
       "      <td>2023-08-05 00:00:00</td>\n",
       "      <td>214373.000000</td>\n",
       "      <td>21437.300000</td>\n",
       "      <td>257247.600000</td>\n",
       "    </tr>\n",
       "    <tr>\n",
       "      <th>std</th>\n",
       "      <td>NaN</td>\n",
       "      <td>32530.511277</td>\n",
       "      <td>3253.051128</td>\n",
       "      <td>39036.613533</td>\n",
       "    </tr>\n",
       "  </tbody>\n",
       "</table>\n",
       "</div>"
      ],
      "text/plain": [
       "                                Date  10 gram price  1 gram price  \\\n",
       "count                            158     158.000000    158.000000   \n",
       "mean   2019-11-08 02:34:56.202531584   83479.335443   8347.933544   \n",
       "min              2013-02-05 00:00:00   40380.000000   4038.000000   \n",
       "25%              2019-05-14 12:00:00   60517.250000   6051.725000   \n",
       "50%              2019-09-03 00:00:00   75335.000000   7533.500000   \n",
       "75%              2021-02-24 06:00:00   97680.250000   9768.025000   \n",
       "max              2023-08-05 00:00:00  214373.000000  21437.300000   \n",
       "std                              NaN   32530.511277   3253.051128   \n",
       "\n",
       "        1 tola price  \n",
       "count     158.000000  \n",
       "mean   100175.202532  \n",
       "min     48456.000000  \n",
       "25%     72620.700000  \n",
       "50%     90402.000000  \n",
       "75%    117216.300000  \n",
       "max    257247.600000  \n",
       "std     39036.613533  "
      ]
     },
     "execution_count": 197,
     "metadata": {},
     "output_type": "execute_result"
    }
   ],
   "source": [
    "# describe data\n",
    "df.describe()"
   ]
  },
  {
   "cell_type": "code",
   "execution_count": 212,
   "metadata": {},
   "outputs": [
    {
     "data": {
      "text/plain": [
       "<Axes: xlabel='Date'>"
      ]
     },
     "execution_count": 212,
     "metadata": {},
     "output_type": "execute_result"
    },
    {
     "data": {
      "image/png": "[encoded data removed]",
      "text/plain": [
       "<Figure size 1000x500 with 1 Axes>"
      ]
     },
     "metadata": {},
     "output_type": "display_data"
    }
   ],
   "source": [
    "# caclulate the mean tola price for each year and save it in a new dataframe\n",
    "year_df = df.groupby(df['Date'].dt.year)['1 tola price'].mean().to_frame()\n",
    "\n",
    "# plot the mean tola price for each year\n",
    "year_df.plot(kind='bar', figsize=(10, 5))"
   ]
  },
  {
   "cell_type": "code",
   "execution_count": 214,
   "metadata": {},
   "outputs": [
    {
     "data": {
      "text/html": [
       "<div>\n",
       "<style scoped>\n",
       "    .dataframe tbody tr th:only-of-type {\n",
       "        vertical-align: middle;\n",
       "    }\n",
       "\n",
       "    .dataframe tbody tr th {\n",
       "        vertical-align: top;\n",
       "    }\n",
       "\n",
       "    .dataframe thead th {\n",
       "        text-align: right;\n",
       "    }\n",
       "</style>\n",
       "<table border=\"1\" class=\"dataframe\">\n",
       "  <thead>\n",
       "    <tr style=\"text-align: right;\">\n",
       "      <th></th>\n",
       "      <th>1 tola price</th>\n",
       "      <th>Total tola price</th>\n",
       "    </tr>\n",
       "    <tr>\n",
       "      <th>Date</th>\n",
       "      <th></th>\n",
       "      <th></th>\n",
       "    </tr>\n",
       "  </thead>\n",
       "  <tbody>\n",
       "    <tr>\n",
       "      <th>2013</th>\n",
       "      <td>55368.300000</td>\n",
       "      <td>8.858928e+05</td>\n",
       "    </tr>\n",
       "    <tr>\n",
       "      <th>2014</th>\n",
       "      <td>50427.900000</td>\n",
       "      <td>8.068464e+05</td>\n",
       "    </tr>\n",
       "    <tr>\n",
       "      <th>2016</th>\n",
       "      <td>51790.080000</td>\n",
       "      <td>8.286413e+05</td>\n",
       "    </tr>\n",
       "    <tr>\n",
       "      <th>2017</th>\n",
       "      <td>52148.400000</td>\n",
       "      <td>8.343744e+05</td>\n",
       "    </tr>\n",
       "    <tr>\n",
       "      <th>2018</th>\n",
       "      <td>64371.000000</td>\n",
       "      <td>1.029936e+06</td>\n",
       "    </tr>\n",
       "    <tr>\n",
       "      <th>2019</th>\n",
       "      <td>80844.600000</td>\n",
       "      <td>1.293514e+06</td>\n",
       "    </tr>\n",
       "    <tr>\n",
       "      <th>2020</th>\n",
       "      <td>107918.516129</td>\n",
       "      <td>1.726696e+06</td>\n",
       "    </tr>\n",
       "    <tr>\n",
       "      <th>2021</th>\n",
       "      <td>115012.200000</td>\n",
       "      <td>1.840195e+06</td>\n",
       "    </tr>\n",
       "    <tr>\n",
       "      <th>2022</th>\n",
       "      <td>147482.181818</td>\n",
       "      <td>2.359715e+06</td>\n",
       "    </tr>\n",
       "    <tr>\n",
       "      <th>2023</th>\n",
       "      <td>219436.114286</td>\n",
       "      <td>3.510978e+06</td>\n",
       "    </tr>\n",
       "  </tbody>\n",
       "</table>\n",
       "</div>"
      ],
      "text/plain": [
       "       1 tola price  Total tola price\n",
       "Date                                 \n",
       "2013   55368.300000      8.858928e+05\n",
       "2014   50427.900000      8.068464e+05\n",
       "2016   51790.080000      8.286413e+05\n",
       "2017   52148.400000      8.343744e+05\n",
       "2018   64371.000000      1.029936e+06\n",
       "2019   80844.600000      1.293514e+06\n",
       "2020  107918.516129      1.726696e+06\n",
       "2021  115012.200000      1.840195e+06\n",
       "2022  147482.181818      2.359715e+06\n",
       "2023  219436.114286      3.510978e+06"
      ]
     },
     "execution_count": 214,
     "metadata": {},
     "output_type": "execute_result"
    }
   ],
   "source": [
    "# add column for total tola price\n",
    "year_df['Total tola price'] = year_df['1 tola price'] * TOTAL_TOLA\n",
    "\n",
    "# show data\n",
    "year_df"
   ]
  },
  {
   "cell_type": "code",
   "execution_count": 219,
   "metadata": {},
   "outputs": [
    {
     "data": {
      "text/html": [
       "<div>\n",
       "<style scoped>\n",
       "    .dataframe tbody tr th:only-of-type {\n",
       "        vertical-align: middle;\n",
       "    }\n",
       "\n",
       "    .dataframe tbody tr th {\n",
       "        vertical-align: top;\n",
       "    }\n",
       "\n",
       "    .dataframe thead th {\n",
       "        text-align: right;\n",
       "    }\n",
       "</style>\n",
       "<table border=\"1\" class=\"dataframe\">\n",
       "  <thead>\n",
       "    <tr style=\"text-align: right;\">\n",
       "      <th></th>\n",
       "      <th>1 tola price</th>\n",
       "      <th>Total tola price</th>\n",
       "      <th>Zakat</th>\n",
       "    </tr>\n",
       "    <tr>\n",
       "      <th>Date</th>\n",
       "      <th></th>\n",
       "      <th></th>\n",
       "      <th></th>\n",
       "    </tr>\n",
       "  </thead>\n",
       "  <tbody>\n",
       "    <tr>\n",
       "      <th>2013</th>\n",
       "      <td>55369.0</td>\n",
       "      <td>885893.0</td>\n",
       "      <td>22148.0</td>\n",
       "    </tr>\n",
       "    <tr>\n",
       "      <th>2014</th>\n",
       "      <td>50428.0</td>\n",
       "      <td>806847.0</td>\n",
       "      <td>20172.0</td>\n",
       "    </tr>\n",
       "    <tr>\n",
       "      <th>2016</th>\n",
       "      <td>51791.0</td>\n",
       "      <td>828642.0</td>\n",
       "      <td>20717.0</td>\n",
       "    </tr>\n",
       "    <tr>\n",
       "      <th>2017</th>\n",
       "      <td>52149.0</td>\n",
       "      <td>834375.0</td>\n",
       "      <td>20860.0</td>\n",
       "    </tr>\n",
       "    <tr>\n",
       "      <th>2018</th>\n",
       "      <td>64371.0</td>\n",
       "      <td>1029936.0</td>\n",
       "      <td>25749.0</td>\n",
       "    </tr>\n",
       "    <tr>\n",
       "      <th>2019</th>\n",
       "      <td>80845.0</td>\n",
       "      <td>1293514.0</td>\n",
       "      <td>32338.0</td>\n",
       "    </tr>\n",
       "    <tr>\n",
       "      <th>2020</th>\n",
       "      <td>107919.0</td>\n",
       "      <td>1726697.0</td>\n",
       "      <td>43168.0</td>\n",
       "    </tr>\n",
       "    <tr>\n",
       "      <th>2021</th>\n",
       "      <td>115013.0</td>\n",
       "      <td>1840196.0</td>\n",
       "      <td>46005.0</td>\n",
       "    </tr>\n",
       "    <tr>\n",
       "      <th>2022</th>\n",
       "      <td>147483.0</td>\n",
       "      <td>2359715.0</td>\n",
       "      <td>58993.0</td>\n",
       "    </tr>\n",
       "    <tr>\n",
       "      <th>2023</th>\n",
       "      <td>219437.0</td>\n",
       "      <td>3510978.0</td>\n",
       "      <td>87775.0</td>\n",
       "    </tr>\n",
       "  </tbody>\n",
       "</table>\n",
       "</div>"
      ],
      "text/plain": [
       "      1 tola price  Total tola price    Zakat\n",
       "Date                                         \n",
       "2013       55369.0          885893.0  22148.0\n",
       "2014       50428.0          806847.0  20172.0\n",
       "2016       51791.0          828642.0  20717.0\n",
       "2017       52149.0          834375.0  20860.0\n",
       "2018       64371.0         1029936.0  25749.0\n",
       "2019       80845.0         1293514.0  32338.0\n",
       "2020      107919.0         1726697.0  43168.0\n",
       "2021      115013.0         1840196.0  46005.0\n",
       "2022      147483.0         2359715.0  58993.0\n",
       "2023      219437.0         3510978.0  87775.0"
      ]
     },
     "execution_count": 219,
     "metadata": {},
     "output_type": "execute_result"
    }
   ],
   "source": [
    "# add column for zakat\n",
    "year_df['Zakat'] = year_df['Total tola price'] * ZAKAT\n",
    "\n",
    "#  ciel all values\n",
    "year_df = year_df.apply(np.ceil)\n",
    "\n",
    "# show data\n",
    "year_df"
   ]
  },
  {
   "cell_type": "code",
   "execution_count": 239,
   "metadata": {},
   "outputs": [
    {
     "data": {
      "image/png": "[encoded data removed]",
      "text/plain": [
       "<Figure size 1000x500 with 1 Axes>"
      ]
     },
     "metadata": {},
     "output_type": "display_data"
    }
   ],
   "source": [
    "# plot the zakat for each year in a bar chart such that value is visible on top of each bar\n",
    "# set label for x and y axis and title\n",
    "plt.xlabel('Year')\n",
    "plt.ylabel('Zakat')\n",
    "plt.title('Zakat for 16 Tola each year')\n",
    "\n",
    "# plot the bar chart\n",
    "year_df['Zakat'].plot(kind='bar', figsize=(10, 5))\n",
    "for i, v in enumerate(year_df['Zakat']):\n",
    "    plt.text(i - 0.1, v + 0.5, str(v))\n",
    "\n"
   ]
  },
  {
   "cell_type": "code",
   "execution_count": 241,
   "metadata": {},
   "outputs": [
    {
     "data": {
      "text/plain": [
       "377925.0"
      ]
     },
     "execution_count": 241,
     "metadata": {},
     "output_type": "execute_result"
    }
   ],
   "source": [
    "# save the data\n",
    "year_df.to_csv('output/zakat.csv')\n",
    "\n",
    "# get sum of zakat\n",
    "year_df['Zakat'].sum()"
   ]
  }
 ],
 "metadata": {
  "kernelspec": {
   "display_name": "venv",
   "language": "python",
   "name": "python3"
  },
  "language_info": {
   "codemirror_mode": {
    "name": "ipython",
    "version": 3
   },
   "file_extension": ".py",
   "mimetype": "text/x-python",
   "name": "python",
   "nbconvert_exporter": "python",
   "pygments_lexer": "ipython3",
   "version": "3.10.12"
  },
  "orig_nbformat": 4
 },
 "nbformat": 4,
 "nbformat_minor": 2
}
